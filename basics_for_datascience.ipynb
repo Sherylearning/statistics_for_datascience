{
 "cells": [
  {
   "cell_type": "markdown",
   "metadata": {},
   "source": [
    "# Outline\n",
    "## 1- Descriptive Statistics\n",
    "## 2- Data Visualization\n",
    "## 3- Probability Distribution\n",
    "## 4- Hypothesis Testing\n",
    "## 5- Regression Analysis"
   ]
  },
  {
   "attachments": {},
   "cell_type": "markdown",
   "metadata": {},
   "source": [
    "# Important before jumping into statistics\n",
    "# Statistics: it is the collection of methods for collecting, displaying, analyzing, and drawing conclusions from data\n",
    "### Statics is everywhere look at some examples:\n",
    "### a- Will it rain 55-70% chances(weather forcast)\n",
    "### b- Rate of usd prediction\n",
    "### c- Housing material prices increased\n",
    "### d- Un-employment rate fallen\n",
    "### e- Who gets paid how much? 'Datascientist ki salary'\n",
    "### f- Average salary of Data Analyst or Data Scientist?\n",
    "### g- Any comparison in research\n",
    "### h- Yaar thesis ki stat laga do..\n",
    "### i- ANOVA etc....."
   ]
  },
  {
   "attachments": {},
   "cell_type": "markdown",
   "metadata": {},
   "source": [
    "# Language of Statistics\n",
    "### Highest score in cricket match (Maximum)\n",
    "### Average salary in Pakistan (Average)\n",
    "### Fastest Bowler (Maximum)\n",
    "### Sab se kam run khaye(Minimum)\n",
    "### 40% teacher ki Pakistan are females (percentage)\n",
    "### Kal barish kitni ho ge b k nahi (likelihood)\n",
    "### Dollar kabhi uper jata hai kbhi neechay (varience)\n",
    "### Hostels me larkey ziada kharcha karty hain larkiyn ki nisbat (t-test)\n",
    "### Faisalabad> Lahore> Karachi> Sargodha>\n",
    "### Islamabad jugton(jokes) ki ranking (ANOVA)"
   ]
  },
  {
   "cell_type": "markdown",
   "metadata": {},
   "source": [
    "# Types of Data\n",
    "## Cross sectional data: Data collected at one point\n",
    "## Time series: Data collected over different time points\n",
    "# Data Types 2\n",
    "## Univariate: Data contains a single variable to measure entity(plant height)\n",
    "## Multi-variate: Data contains 2 variables or more to measure something (plant height, fertilizer, irrigation )\n",
    "# Variable Type 1:\n",
    "## Categorical(Nominal)\n",
    "### Binomial(True/False)\n",
    "### Multinomial(travel choices)\n",
    "# Variable Type 2:\n",
    "## Categorical(Nominal): Data ranked or ordered\n",
    "## Categories can be compared no fixed unit of measurement for statistics\n",
    "### Examples: How much phones i have\n",
    "# Variable Type 3: Ratio Data\n",
    "## Data habe a neutral zero: sale is good today then yesterday\n",
    "### Note: Measurement in units and ratio are Continuos variable\n",
    "# Variable Type 4: Interval variables/data\n",
    "## ordered and characterized data\n",
    "### Example this summer temprature is quite more than in 2020\n",
    "### Note: Ratio s are meaning less(50 degree) is not double hote of (25 degree) Differences are meaningful"
   ]
  },
  {
   "attachments": {},
   "cell_type": "markdown",
   "metadata": {},
   "source": [
    "# Measure of central tendency:(mean, median, mode)\n",
    "# Notation and terms: N=size of population, n=size of sample, sample etc...\n",
    "# Statictics: \n",
    "It is a collection of methods for collecting, displaying, analyzing, and drawing conclusions form data.\n",
    "## Population:\n",
    "A population is any specific collection of object of interest.\n",
    "## Sample:\n",
    "A sample is any subset or sub-collection of the population, sample consist of the whole population,\\\n",
    "in which case it is termed a census.\n",
    "## Measurement:\n",
    "A measurement is a number or attribute computed for each member of a population or of a sample. The measurement of sample elements are collectively called the sample data.\n",
    "## Parameter:\n",
    "A parameter is a number that summarize some aspect of the lpopulation as a whole..\n",
    "## Statistics:\n",
    "A statistics is a number computed from the sample data.\n",
    "## Descriptive Statistics:\n",
    "is the branch of statistics that involves organizing, displaying, and describing data.\n",
    "## Inferential statistics:\n",
    "is the branch of statistics that involves drawing conclusions about a population based on i formation contained in a sample taken form that population.\n",
    "## Qualitative data:\n",
    "are measurements for which their is no natural numerical scale, but which consist of attributes, labels. or other non-numerical characteristics.\n",
    "## Quantitative data:\n",
    "are numerical measurements that arise from a natural numerical scale.\n",
    "## Mean:\n",
    "is the sum divided by the number of observations (Average). The mean is the average or the most common value in a collection of numbers.\\\n",
    "Meaningful for intervals and ratio data.\\\n",
    "Outliers change the means of a data, therefore median is useful at that moment.\n",
    "## Median: \n",
    "The median is the middle number in a sorted, ascending or descending, list of numbers.\\\n",
    "Population mean, sample mean.\n",
    "## Mode:\n",
    "The value that occurs most frequently.\\ example: 18 years age most common in a class.\n",
    "\n",
    "```python\n",
    "import pandas as pd\n",
    "\n",
    "df = pd.read_csv(\"iris.csv\")\n",
    "print(df.describe())\n",
    "```\n",
    "## Measure of dispersion:\n",
    "Variability, scatter or spread\n",
    "### Dispersion:\n",
    "How much data spread around mean.\\ example: light passes through prism and dispersed into number of lights.\\\n",
    "this is called standard deviation(std), standard(error), varaince, Bell curve.\\\n",
    "def: Caused by the difference between minimum and maximum.\\\n",
    "range=minimum -to- maximum\n",
    "\n",
    "```python\n",
    "prices = (30,30,45,10,61,70,90,115)\n",
    "mean=54\n",
    "median=45\n",
    "mode=30\n",
    "std=33.26\n",
    "variance=1106.5\n",
    "min=45\n",
    "max=115\n",
    "```\n",
    "Role of SD and MEAN:\\\n",
    "Example: You want to buy something and take rate in a market\n",
    "s1_mean= 30.1\n",
    "s2_mean=30.2\n",
    "s1_sd=4.76\n",
    "s2_sd=10.99\n",
    "### SD and Mean reliability:\n",
    "Mean: only gives us a small picture.\\\n",
    "Means are incomplete without dispersion(SD).\\\n",
    "mean with SD is more useful thanonly mean by itself.\\\n",
    "## Fundamental of Visualization: Two types of Data\n",
    "\n",
    "### Categorical Variables:\n",
    "Qualitative no numerical meaning represented in texts (e.g character, factors in R).\\\n",
    "Binomial: Yes/NO\n",
    "### Continuous:\n",
    "Quantitative numerical mostly represented in a number (e.g Numerical variable in R).\\\n",
    "Examples: Amount, number, age, plant height, number of bacterial colonies, Chlorophyll content, Fertilizer amount.\\\n"
   ]
  },
  {
   "cell_type": "code",
   "execution_count": null,
   "metadata": {},
   "outputs": [],
   "source": []
  },
  {
   "cell_type": "code",
   "execution_count": null,
   "metadata": {},
   "outputs": [],
   "source": []
  },
  {
   "cell_type": "code",
   "execution_count": null,
   "metadata": {},
   "outputs": [],
   "source": []
  },
  {
   "cell_type": "code",
   "execution_count": null,
   "metadata": {},
   "outputs": [],
   "source": []
  },
  {
   "cell_type": "code",
   "execution_count": null,
   "metadata": {},
   "outputs": [],
   "source": []
  },
  {
   "cell_type": "code",
   "execution_count": null,
   "metadata": {},
   "outputs": [],
   "source": [
    "\n"
   ]
  }
 ],
 "metadata": {
  "language_info": {
   "name": "python"
  },
  "orig_nbformat": 4
 },
 "nbformat": 4,
 "nbformat_minor": 2
}
